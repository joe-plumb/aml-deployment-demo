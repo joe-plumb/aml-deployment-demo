{
 "cells": [
  {
   "cell_type": "markdown",
   "metadata": {},
   "source": [
    "## Connecting to Azure Machine Learning Service\n",
    "Interactive auth is fine for testing, experimenting, debugging, but as you move to production you should think about [Service Principal authentication](https://docs.microsoft.com/en-us/azure/machine-learning/how-to-setup-authentication#service-principal-authentication)"
   ]
  },
  {
   "cell_type": "code",
   "execution_count": 1,
   "metadata": {
    "tags": []
   },
   "outputs": [
    {
     "output_type": "stream",
     "name": "stdout",
     "text": "SDK version: 1.9.0\n"
    }
   ],
   "source": [
    "import azureml.core\n",
    "\n",
    "# Check core SDK version number.\n",
    "print('SDK version:', azureml.core.VERSION)"
   ]
  },
  {
   "cell_type": "code",
   "execution_count": 31,
   "metadata": {
    "tags": []
   },
   "outputs": [
    {
     "output_type": "stream",
     "name": "stdout",
     "text": "aml-deployment-demo\naml-deployment-demo\nwesteurope\n"
    }
   ],
   "source": [
    "from azureml.core import Workspace\n",
    "\n",
    "ws = Workspace.from_config()\n",
    "print(ws.name, ws.resource_group, ws.location, sep='\\n')"
   ]
  },
  {
   "cell_type": "markdown",
   "metadata": {},
   "source": [
    "## Train a model using sample dataset"
   ]
  },
  {
   "cell_type": "code",
   "execution_count": 3,
   "metadata": {},
   "outputs": [
    {
     "output_type": "execute_result",
     "data": {
      "text/plain": "['sklearn_regression_model_test.pkl']"
     },
     "metadata": {},
     "execution_count": 3
    }
   ],
   "source": [
    "import joblib\n",
    "\n",
    "from sklearn.datasets import load_diabetes\n",
    "from sklearn.linear_model import Ridge\n",
    "\n",
    "\n",
    "dataset_x, dataset_y = load_diabetes(return_X_y=True)\n",
    "\n",
    "model = Ridge().fit(dataset_x, dataset_y)\n",
    "\n",
    "joblib.dump(model, 'sklearn_regression_model_test.pkl')"
   ]
  },
  {
   "cell_type": "markdown",
   "metadata": {},
   "source": [
    "## Upload Datasets and Register Model\n",
    "To complete the creation process, you can register your datasets with a workspace. Use the `register()` method to register datasets with your workspace in order to share them with others and reuse them across experiments in your workspace:\n",
    "```\n",
    "diabetes_ds = diabetes_ds.register(workspace=workspace,\n",
    "                                   name='diabetes_dsdiabetes_ds',\n",
    "                                   description='sklearn training data')\n",
    "```"
   ]
  },
  {
   "cell_type": "code",
   "execution_count": 12,
   "metadata": {
    "tags": []
   },
   "outputs": [
    {
     "output_type": "stream",
     "name": "stdout",
     "text": "Uploading an estimated of 2 files\nUploading ./features.csv\nUploading ./labels.csv\nUploaded ./labels.csv, 1 files out of an estimated total of 2\nUploaded ./features.csv, 2 files out of an estimated total of 2\nUploaded 2 files\n"
    }
   ],
   "source": [
    "\n",
    "import numpy as np\n",
    "\n",
    "from azureml.core import Dataset\n",
    "\n",
    "\n",
    "np.savetxt('features.csv', dataset_x, delimiter=',')\n",
    "np.savetxt('labels.csv', dataset_y, delimiter=',')\n",
    "\n",
    "datastore = ws.get_default_datastore()\n",
    "datastore.upload_files(files=['./features.csv', './labels.csv'],\n",
    "                       target_path='sklearn_regression/',\n",
    "                       overwrite=True)\n",
    "\n",
    "input_dataset = Dataset.Tabular.from_delimited_files(path=[(datastore, 'sklearn_regression/features.csv')])\n",
    "output_dataset = Dataset.Tabular.from_delimited_files(path=[(datastore, 'sklearn_regression/labels.csv')])\n"
   ]
  },
  {
   "cell_type": "code",
   "execution_count": 10,
   "metadata": {
    "tags": []
   },
   "outputs": [
    {
     "output_type": "stream",
     "name": "stdout",
     "text": "Registering model my-sklearn-model\nName: my-sklearn-model\nVersion: 1\n"
    }
   ],
   "source": [
    "import sklearn\n",
    "\n",
    "from azureml.core import Model\n",
    "from azureml.core.resource_configuration import ResourceConfiguration\n",
    "\n",
    "model = Model.register(workspace=ws,\n",
    "                       model_name='my-sklearn-model',                     # Name of the registered model in your workspace.\n",
    "                       model_path='./sklearn_regression_model_test.pkl',  # Local file to upload and register as a model.\n",
    "                       model_framework=Model.Framework.SCIKITLEARN,       # Framework used to create the model.\n",
    "                       model_framework_version=sklearn.__version__,       # Version of scikit-learn used to create the model.\n",
    "                       sample_input_dataset=input_dataset,\n",
    "                       sample_output_dataset=output_dataset,\n",
    "                       resource_configuration=ResourceConfiguration(cpu=1, memory_in_gb=0.5),\n",
    "                       description='Ridge regression model to predict diabetes progression.',\n",
    "                       tags={'area': 'diabetes', 'type': 'regression'})\n",
    "\n",
    "print('Name:', model.name)\n",
    "print('Version:', model.version)"
   ]
  },
  {
   "cell_type": "markdown",
   "metadata": {},
   "source": [
    "## Deploy the model\n",
    "### Register model environment"
   ]
  },
  {
   "cell_type": "code",
   "execution_count": 17,
   "metadata": {},
   "outputs": [
    {
     "output_type": "execute_result",
     "data": {
      "text/plain": "{\n    \"databricks\": {\n        \"eggLibraries\": [],\n        \"jarLibraries\": [],\n        \"mavenLibraries\": [],\n        \"pypiLibraries\": [],\n        \"rcranLibraries\": []\n    },\n    \"docker\": {\n        \"arguments\": [],\n        \"baseDockerfile\": null,\n        \"baseImage\": \"mcr.microsoft.com/azureml/intelmpi2018.3-ubuntu16.04:20200423.v1\",\n        \"baseImageRegistry\": {\n            \"address\": null,\n            \"password\": null,\n            \"registryIdentity\": null,\n            \"username\": null\n        },\n        \"enabled\": false,\n        \"platform\": {\n            \"architecture\": \"amd64\",\n            \"os\": \"Linux\"\n        },\n        \"sharedVolumes\": true,\n        \"shmSize\": null\n    },\n    \"environmentVariables\": {\n        \"EXAMPLE_ENV_VAR\": \"EXAMPLE_VALUE\"\n    },\n    \"inferencingStackVersion\": null,\n    \"name\": \"myenv\",\n    \"python\": {\n        \"baseCondaEnvironment\": null,\n        \"condaDependencies\": {\n            \"dependencies\": [\n                \"python=3.6.9\",\n                \"scikit-learn=0.23.1\",\n                {\n                    \"pip\": [\n                        \"azureml-defaults>=1.0.45\",\n                        \"inference-schema[numpy-support]\",\n                        \"azureml-sdk\",\n                        \"joblib\",\n                        \"numpy\"\n                    ]\n                }\n            ],\n            \"name\": \"azureml_a568d478d45cceca5b9d9c3db6f06a75\"\n        },\n        \"condaDependenciesFile\": null,\n        \"interpreterPath\": \"python\",\n        \"userManagedDependencies\": false\n    },\n    \"r\": null,\n    \"spark\": {\n        \"packages\": [],\n        \"precachePackages\": true,\n        \"repositories\": []\n    },\n    \"version\": \"1\"\n}"
     },
     "metadata": {},
     "execution_count": 17
    }
   ],
   "source": [
    "from azureml.core.environment import Environment\n",
    "myenv = Environment.from_conda_specification(name = 'myenv',\n",
    "                                             file_path = 'inferenceconfig.yml')\n",
    "myenv.register(workspace=ws)"
   ]
  },
  {
   "cell_type": "code",
   "execution_count": 23,
   "metadata": {
    "tags": []
   },
   "outputs": [
    {
     "output_type": "stream",
     "name": "stdout",
     "text": "Running..........................\nSucceeded\nACI service creation operation finished, operation \"Succeeded\"\n"
    }
   ],
   "source": [
    "from azureml.core.environment import Environment\n",
    "from azureml.core.model import InferenceConfig\n",
    "from azureml.core.webservice import AciWebservice, Webservice\n",
    "\n",
    "myenv = Environment.get(workspace=ws, name='myenv', version='1')\n",
    "inference_config = InferenceConfig(entry_script='score.py',\n",
    "                                   environment=myenv)\n",
    "\n",
    "deployment_config = AciWebservice.deploy_configuration(cpu_cores = 1, memory_gb = 1)\n",
    "\n",
    "service_name = 'my-sklearn-service'\n",
    "\n",
    "service = Model.deploy(ws, service_name, [model], inference_config, deployment_config, overwrite=True)\n",
    "service.wait_for_deployment(show_output=True)"
   ]
  },
  {
   "cell_type": "code",
   "execution_count": 28,
   "metadata": {
    "tags": []
   },
   "outputs": [
    {
     "output_type": "stream",
     "name": "stdout",
     "text": "[182.67357342863968, 90.99902728640282]\n"
    }
   ],
   "source": [
    "import json\n",
    "\n",
    "input_payload = json.dumps({\n",
    "    'data': dataset_x[0:2].tolist(),\n",
    "    'method': 'predict'  # If you have a classification model, you can get probabilities by changing this to 'predict_proba'.\n",
    "})\n",
    "\n",
    "output = service.run(input_payload)\n",
    "\n",
    "print(output)"
   ]
  },
  {
   "cell_type": "code",
   "execution_count": 27,
   "metadata": {
    "tags": []
   },
   "outputs": [],
   "source": [
    "# print(Environment.list(workspace=ws))"
   ]
  },
  {
   "cell_type": "code",
   "execution_count": 32,
   "metadata": {},
   "outputs": [],
   "source": [
    "#dataset_x[0:2].tolist()"
   ]
  },
  {
   "cell_type": "code",
   "execution_count": null,
   "metadata": {},
   "outputs": [],
   "source": []
  }
 ],
 "metadata": {
  "language_info": {
   "codemirror_mode": {
    "name": "ipython",
    "version": 3
   },
   "file_extension": ".py",
   "mimetype": "text/x-python",
   "name": "python",
   "nbconvert_exporter": "python",
   "pygments_lexer": "ipython3",
   "version": "3.6.9-final"
  },
  "orig_nbformat": 2,
  "kernelspec": {
   "name": "python_defaultSpec_1594719271688",
   "display_name": "Python 3.6.9 64-bit ('.venv': venv)"
  }
 },
 "nbformat": 4,
 "nbformat_minor": 2
}